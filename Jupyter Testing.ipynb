{
 "cells": [
  {
   "cell_type": "code",
   "execution_count": 1,
   "id": "e06b4427",
   "metadata": {},
   "outputs": [],
   "source": [
    "i = 1\n",
    "j = 2"
   ]
  },
  {
   "cell_type": "code",
   "execution_count": 2,
   "id": "a0c34cb5",
   "metadata": {},
   "outputs": [
    {
     "data": {
      "text/plain": [
       "3"
      ]
     },
     "execution_count": 2,
     "metadata": {},
     "output_type": "execute_result"
    }
   ],
   "source": [
    "i + j "
   ]
  },
  {
   "cell_type": "code",
   "execution_count": 3,
   "id": "97c30bcd",
   "metadata": {},
   "outputs": [
    {
     "name": "stdout",
     "output_type": "stream",
     "text": [
      "cat 3\n",
      "with 4\n",
      "anything 8\n"
     ]
    }
   ],
   "source": [
    "words = ['cat','with','anything']\n",
    "for w in words:\n",
    "    print(w, len(w))\n",
    "    "
   ]
  },
  {
   "cell_type": "markdown",
   "id": "4b3852cf",
   "metadata": {},
   "source": [
    "# Hello"
   ]
  },
  {
   "cell_type": "code",
   "execution_count": null,
   "id": "1a369632",
   "metadata": {},
   "outputs": [],
   "source": []
  }
 ],
 "metadata": {
  "kernelspec": {
   "display_name": "Python 3 (ipykernel)",
   "language": "python",
   "name": "python3"
  },
  "language_info": {
   "codemirror_mode": {
    "name": "ipython",
    "version": 3
   },
   "file_extension": ".py",
   "mimetype": "text/x-python",
   "name": "python",
   "nbconvert_exporter": "python",
   "pygments_lexer": "ipython3",
   "version": "3.9.7"
  }
 },
 "nbformat": 4,
 "nbformat_minor": 5
}
