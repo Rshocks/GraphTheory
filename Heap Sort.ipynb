{
 "cells": [
  {
   "cell_type": "markdown",
   "id": "b5fe95ab",
   "metadata": {},
   "source": [
    "## Lists in Python\n",
    "***"
   ]
  },
  {
   "cell_type": "code",
   "execution_count": 269,
   "id": "e4977414",
   "metadata": {},
   "outputs": [],
   "source": [
    "L = [1, 2, 3, \"Hello World\", None, True]"
   ]
  },
  {
   "cell_type": "code",
   "execution_count": 270,
   "id": "665f9dbc",
   "metadata": {},
   "outputs": [
    {
     "data": {
      "text/plain": [
       "'Hello World'"
      ]
     },
     "execution_count": 270,
     "metadata": {},
     "output_type": "execute_result"
    }
   ],
   "source": [
    "L[3]"
   ]
  },
  {
   "cell_type": "code",
   "execution_count": 271,
   "id": "1ec34e73",
   "metadata": {},
   "outputs": [
    {
     "data": {
      "text/plain": [
       "[1, 2, 3, 4, 5]"
      ]
     },
     "execution_count": 271,
     "metadata": {},
     "output_type": "execute_result"
    }
   ],
   "source": [
    "#Create list with list function curly needed 5 wont repeat\n",
    "list({1,2,3,4,5,5})"
   ]
  },
  {
   "cell_type": "code",
   "execution_count": 272,
   "id": "bda7a1aa",
   "metadata": {},
   "outputs": [
    {
     "data": {
      "text/plain": [
       "True"
      ]
     },
     "execution_count": 272,
     "metadata": {},
     "output_type": "execute_result"
    }
   ],
   "source": [
    "#Using negative indexes opp way in list\n",
    "L[-1]"
   ]
  },
  {
   "cell_type": "code",
   "execution_count": 273,
   "id": "6517dd05",
   "metadata": {},
   "outputs": [
    {
     "data": {
      "text/plain": [
       "[0, 10, 20, 30, 40, 50, 60, 70, 80, 90]"
      ]
     },
     "execution_count": 273,
     "metadata": {},
     "output_type": "execute_result"
    }
   ],
   "source": [
    "#built in for iterables count 0 - 100 counting up in tens\n",
    "#zero not needed will auto start from it\n",
    "list(range(0,100,10))"
   ]
  },
  {
   "cell_type": "code",
   "execution_count": 274,
   "id": "0a06af11",
   "metadata": {},
   "outputs": [
    {
     "data": {
      "text/plain": [
       "[0, 1, 2, 3, 4, 5, 6, 7, 8, 9]"
      ]
     },
     "execution_count": 274,
     "metadata": {},
     "output_type": "execute_result"
    }
   ],
   "source": [
    "# List slice skipping for every input\n",
    "L = list(range(10))\n",
    "L"
   ]
  },
  {
   "cell_type": "code",
   "execution_count": 275,
   "id": "80010a38",
   "metadata": {},
   "outputs": [
    {
     "data": {
      "text/plain": [
       "[0, 3, 6, 9]"
      ]
     },
     "execution_count": 275,
     "metadata": {},
     "output_type": "execute_result"
    }
   ],
   "source": [
    "L[0:10:3]"
   ]
  },
  {
   "cell_type": "markdown",
   "id": "68da1318",
   "metadata": {},
   "source": [
    "## Bubble Sort\n",
    "***"
   ]
  },
  {
   "cell_type": "code",
   "execution_count": 276,
   "id": "9accf54d",
   "metadata": {},
   "outputs": [],
   "source": [
    "#Importing\n",
    "import random"
   ]
  },
  {
   "cell_type": "code",
   "execution_count": 277,
   "id": "e10d1806",
   "metadata": {},
   "outputs": [
    {
     "data": {
      "text/plain": [
       "[1, 2, 3, 4, 5, 6, 7, 8, 9, 10]"
      ]
     },
     "execution_count": 277,
     "metadata": {},
     "output_type": "execute_result"
    }
   ],
   "source": [
    "L = list(range(1,11))\n",
    "L"
   ]
  },
  {
   "cell_type": "code",
   "execution_count": 278,
   "id": "3aeb8e20",
   "metadata": {},
   "outputs": [
    {
     "data": {
      "text/plain": [
       "[9, 4, 8, 10, 3, 7, 1, 5, 6, 2]"
      ]
     },
     "execution_count": 278,
     "metadata": {},
     "output_type": "execute_result"
    }
   ],
   "source": [
    "#to shuffle using random\n",
    "random.shuffle(L)\n",
    "L"
   ]
  },
  {
   "cell_type": "code",
   "execution_count": 279,
   "id": "474e34a9",
   "metadata": {},
   "outputs": [
    {
     "data": {
      "text/plain": [
       "[4, 8, 9, 3, 7, 1, 5, 6, 2, 10]"
      ]
     },
     "execution_count": 279,
     "metadata": {},
     "output_type": "execute_result"
    }
   ],
   "source": [
    "no_comparisons = 0\n",
    "\n",
    "# Bubble Sort\n",
    "for i in range(len(L) -1):\n",
    "    #compare\n",
    "    if L[i] > L[i+1]:\n",
    "        #then swap\n",
    "        L[i], L[i+1] = L[i+1], L[i]\n",
    "    #add number of comparisions\n",
    "    no_comparisons = no_comparisons + 1\n",
    "L"
   ]
  },
  {
   "cell_type": "code",
   "execution_count": 280,
   "id": "6d81f8cf",
   "metadata": {},
   "outputs": [
    {
     "data": {
      "text/plain": [
       "9"
      ]
     },
     "execution_count": 280,
     "metadata": {},
     "output_type": "execute_result"
    }
   ],
   "source": [
    "#O(n)\n",
    "no_comparisons"
   ]
  },
  {
   "cell_type": "code",
   "execution_count": 281,
   "id": "f53583d8",
   "metadata": {},
   "outputs": [
    {
     "data": {
      "text/plain": [
       "[10, 2, 6, 5, 1, 7, 3, 9, 8, 4]"
      ]
     },
     "execution_count": 281,
     "metadata": {},
     "output_type": "execute_result"
    }
   ],
   "source": [
    "# worst case for bubble sort\n",
    "L[::-1]\n"
   ]
  },
  {
   "cell_type": "markdown",
   "id": "5165aa98",
   "metadata": {},
   "source": [
    "## Heap Sort\n",
    "***"
   ]
  },
  {
   "cell_type": "markdown",
   "id": "1e704c54",
   "metadata": {},
   "source": [
    "#### HeapSort Algorithm\n",
    "The idea behind heapsort is to get the highest element place it at the end repeating until all elements are sorted\n",
    "\n",
    "Heap sort works as such\n",
    "***\n",
    "\n",
    " 1)build a max heap from data, max heap def below\n",
    " \n",
    " 2)switch root with the last node then remove from heap\n",
    " \n",
    " 3)rebuild heap, repeat until one element is remaining\n",
    " \n",
    " #### HeapSort complexity \n",
    " Heapsort has a complexity of O(n log n), meaning time goes in a linear fasion while growth of said element grows exponentially\n",
    " \n",
    " #### Graph Theory & Heapsort\n",
    " Graph theory can be applied to heapsort in a few ways, the first that comes to mind is in the use of nodes, as part of a tree representation of a binary max heap\n",
    "\n",
    " When heap is a complete binary tree, its smallest height, a heap with N nodes and a branches for each node has loga N height"
   ]
  },
  {
   "cell_type": "code",
   "execution_count": 282,
   "id": "ee00baa1",
   "metadata": {},
   "outputs": [],
   "source": [
    "import math"
   ]
  },
  {
   "cell_type": "code",
   "execution_count": 283,
   "id": "ca622be4",
   "metadata": {},
   "outputs": [],
   "source": [
    "#siftdown once we make a heap, siftdown will put one element out of place at root, then siftdown will re establish heap\n",
    "def siftDown(L, parent, end):\n",
    "    \"\"\"L end + 1 should almost be a max heap siftdown repair it so that its one\"\"\"\n",
    "\n",
    "    #while parent is parent and has at least one left child\n",
    "    while (2 * parent + 1) <= end:\n",
    "        #index of children of parent\n",
    "        leftchild = 2 * parent + 1\n",
    "        rightchild = 2 * parent + 2\n",
    "        swap = parent\n",
    "        \n",
    "        #is parent smaller than left child\n",
    "        if L[swap] < L[leftchild]:\n",
    "            \n",
    "            #swap set to index of left child\n",
    "            swap = leftchild\n",
    "            \n",
    "        #check if right exists and smaller than Lswap\n",
    "        if rightchild + 1 <= end and L[swap] < L[rightchild + 1]:\n",
    "            \n",
    "            #then swap set to index of right\n",
    "            swap = rightchild + 1\n",
    "        \n",
    "        #max heap if parent bigger than children\n",
    "        if swap == parent:  \n",
    "            return\n",
    "        else:\n",
    "            #swap parent with bigger child\n",
    "            L[parent], L[swap] = L[swap], L[parent]\n",
    "            #set parent bigger than childs index\n",
    "            parent = swap"
   ]
  },
  {
   "cell_type": "code",
   "execution_count": 284,
   "id": "43283638",
   "metadata": {},
   "outputs": [],
   "source": [
    "\n",
    "def heapsort (L):\n",
    "    \"\"\"Sorts list L in place using heap sort\"\"\"\n",
    "    # turns L into max heap\n",
    "    # max heap is represented as binary tree\n",
    "    #A max-heap is a complete binary tree which the value in each internal node is greater or equal to values in the children of that node\n",
    "    \n",
    "    \n",
    "    last_element = len(L) - 1\n",
    "    \n",
    "    #find the last parent\n",
    "    last_parent = (last_element - 1) // 2 #heapify removed above \n",
    "        \n",
    "    #loops back through the nodes\n",
    "    for parent in range(last_parent, -1, -1):\n",
    "        #sift down\n",
    "        siftDown(L, parent, last_element)\n",
    "        \n",
    "    # Segregate the list L into two parts:\n",
    "    #   1. L[:end] is a max heap\n",
    "    #   2. Each element beyond end is greater than everything before it.\n",
    "\n",
    "    # int end represents the last unsorted element \n",
    "    end = last_element   \n",
    "    \n",
    "    for end in range(last_element, 0, -1):\n",
    "        L[0], L[end] = L[end], L[0] # swap element at 0 with element at end\n",
    "        #fix heap root out of place\n",
    "        siftDown(L, 0, end - 1)\n",
    "        \n",
    "    "
   ]
  },
  {
   "cell_type": "code",
   "execution_count": 285,
   "id": "f5f79899",
   "metadata": {},
   "outputs": [
    {
     "data": {
      "text/plain": [
       "4"
      ]
     },
     "execution_count": 285,
     "metadata": {},
     "output_type": "execute_result"
    }
   ],
   "source": [
    "# Divide with // gives int\n",
    "8//2"
   ]
  },
  {
   "cell_type": "code",
   "execution_count": 286,
   "id": "2fd970ca",
   "metadata": {},
   "outputs": [
    {
     "data": {
      "text/plain": [
       "4.0"
      ]
     },
     "execution_count": 286,
     "metadata": {},
     "output_type": "execute_result"
    }
   ],
   "source": [
    "# Divide with / gives float \n",
    "8/2"
   ]
  },
  {
   "cell_type": "code",
   "execution_count": 287,
   "id": "77692f42",
   "metadata": {},
   "outputs": [
    {
     "data": {
      "text/plain": [
       "[5, 1, 3, 4, 6, 7, 9]"
      ]
     },
     "execution_count": 287,
     "metadata": {},
     "output_type": "execute_result"
    }
   ],
   "source": [
    "L = [5,1,3,4,6,7,9]\n",
    "L\n"
   ]
  },
  {
   "cell_type": "code",
   "execution_count": 288,
   "id": "c4c7c531",
   "metadata": {},
   "outputs": [
    {
     "data": {
      "text/plain": [
       "([1, 7, 3, 6, 4, 9, 5], None)"
      ]
     },
     "execution_count": 288,
     "metadata": {},
     "output_type": "execute_result"
    }
   ],
   "source": [
    "heapsort(L)\n",
    "L"
   ]
  },
  {
   "cell_type": "code",
   "execution_count": 289,
   "id": "45583260",
   "metadata": {},
   "outputs": [
    {
     "name": "stdout",
     "output_type": "stream",
     "text": [
      "(0, 1, 2, 3, 4) -> [0, 2, 1, 4, 3]\n",
      "(0, 1, 2, 4, 3) -> [0, 2, 1, 3, 4]\n",
      "(0, 1, 3, 2, 4) -> [0, 3, 1, 4, 2]\n",
      "(0, 1, 3, 4, 2) -> [0, 3, 1, 2, 4]\n",
      "(0, 1, 4, 2, 3) -> [0, 4, 1, 3, 2]\n",
      "(0, 1, 4, 3, 2) -> [0, 4, 1, 2, 3]\n",
      "(0, 2, 1, 3, 4) -> [0, 1, 2, 4, 3]\n",
      "(0, 2, 1, 4, 3) -> [0, 1, 2, 3, 4]\n",
      "(0, 2, 3, 1, 4) -> [0, 3, 1, 4, 2]\n",
      "(0, 2, 3, 4, 1) -> [0, 3, 1, 2, 4]\n",
      "(0, 2, 4, 1, 3) -> [0, 4, 1, 3, 2]\n",
      "(0, 2, 4, 3, 1) -> [0, 4, 1, 2, 3]\n",
      "(0, 3, 1, 2, 4) -> [0, 1, 2, 4, 3]\n",
      "(0, 3, 1, 4, 2) -> [0, 1, 2, 3, 4]\n",
      "(0, 3, 2, 1, 4) -> [0, 2, 1, 4, 3]\n",
      "(0, 3, 2, 4, 1) -> [0, 2, 1, 3, 4]\n",
      "(0, 3, 4, 1, 2) -> [0, 4, 1, 2, 3]\n",
      "(0, 3, 4, 2, 1) -> [0, 4, 1, 2, 3]\n",
      "(0, 4, 1, 2, 3) -> [0, 1, 2, 3, 4]\n",
      "(0, 4, 1, 3, 2) -> [0, 1, 2, 3, 4]\n",
      "(0, 4, 2, 1, 3) -> [0, 2, 1, 3, 4]\n",
      "(0, 4, 2, 3, 1) -> [0, 2, 1, 3, 4]\n",
      "(0, 4, 3, 1, 2) -> [0, 3, 1, 2, 4]\n",
      "(0, 4, 3, 2, 1) -> [0, 3, 1, 2, 4]\n",
      "(1, 0, 2, 3, 4) -> [0, 2, 1, 4, 3]\n",
      "(1, 0, 2, 4, 3) -> [0, 2, 1, 3, 4]\n",
      "(1, 0, 3, 2, 4) -> [0, 3, 1, 4, 2]\n",
      "(1, 0, 3, 4, 2) -> [0, 3, 1, 2, 4]\n",
      "(1, 0, 4, 2, 3) -> [0, 4, 1, 3, 2]\n",
      "(1, 0, 4, 3, 2) -> [0, 4, 1, 2, 3]\n",
      "(1, 2, 0, 3, 4) -> [0, 1, 2, 4, 3]\n",
      "(1, 2, 0, 4, 3) -> [0, 1, 2, 3, 4]\n",
      "(1, 2, 3, 0, 4) -> [0, 3, 1, 4, 2]\n",
      "(1, 2, 3, 4, 0) -> [0, 3, 1, 2, 4]\n",
      "(1, 2, 4, 0, 3) -> [0, 4, 1, 3, 2]\n",
      "(1, 2, 4, 3, 0) -> [0, 4, 1, 2, 3]\n",
      "(1, 3, 0, 2, 4) -> [0, 1, 2, 4, 3]\n",
      "(1, 3, 0, 4, 2) -> [0, 1, 2, 3, 4]\n",
      "(1, 3, 2, 0, 4) -> [0, 2, 1, 4, 3]\n",
      "(1, 3, 2, 4, 0) -> [0, 2, 1, 3, 4]\n",
      "(1, 3, 4, 0, 2) -> [0, 4, 1, 2, 3]\n",
      "(1, 3, 4, 2, 0) -> [0, 4, 1, 2, 3]\n",
      "(1, 4, 0, 2, 3) -> [0, 1, 2, 3, 4]\n",
      "(1, 4, 0, 3, 2) -> [0, 1, 2, 3, 4]\n",
      "(1, 4, 2, 0, 3) -> [0, 2, 1, 3, 4]\n",
      "(1, 4, 2, 3, 0) -> [0, 2, 1, 3, 4]\n",
      "(1, 4, 3, 0, 2) -> [0, 3, 1, 2, 4]\n",
      "(1, 4, 3, 2, 0) -> [0, 3, 1, 2, 4]\n",
      "(2, 0, 1, 3, 4) -> [0, 1, 2, 4, 3]\n",
      "(2, 0, 1, 4, 3) -> [0, 1, 2, 3, 4]\n",
      "(2, 0, 3, 1, 4) -> [0, 3, 1, 4, 2]\n",
      "(2, 0, 3, 4, 1) -> [0, 3, 1, 2, 4]\n",
      "(2, 0, 4, 1, 3) -> [0, 4, 1, 3, 2]\n",
      "(2, 0, 4, 3, 1) -> [0, 4, 1, 2, 3]\n",
      "(2, 1, 0, 3, 4) -> [0, 1, 2, 4, 3]\n",
      "(2, 1, 0, 4, 3) -> [0, 1, 2, 3, 4]\n",
      "(2, 1, 3, 0, 4) -> [0, 3, 1, 4, 2]\n",
      "(2, 1, 3, 4, 0) -> [0, 3, 1, 2, 4]\n",
      "(2, 1, 4, 0, 3) -> [0, 4, 1, 3, 2]\n",
      "(2, 1, 4, 3, 0) -> [0, 4, 1, 2, 3]\n",
      "(2, 3, 0, 1, 4) -> [0, 1, 2, 4, 3]\n",
      "(2, 3, 0, 4, 1) -> [0, 1, 2, 3, 4]\n",
      "(2, 3, 1, 0, 4) -> [0, 1, 2, 4, 3]\n",
      "(2, 3, 1, 4, 0) -> [0, 1, 2, 3, 4]\n",
      "(2, 3, 4, 0, 1) -> [0, 4, 1, 2, 3]\n",
      "(2, 3, 4, 1, 0) -> [0, 4, 1, 2, 3]\n",
      "(2, 4, 0, 1, 3) -> [0, 1, 2, 3, 4]\n",
      "(2, 4, 0, 3, 1) -> [0, 1, 2, 3, 4]\n",
      "(2, 4, 1, 0, 3) -> [0, 1, 2, 3, 4]\n",
      "(2, 4, 1, 3, 0) -> [0, 1, 2, 3, 4]\n",
      "(2, 4, 3, 0, 1) -> [0, 3, 1, 2, 4]\n",
      "(2, 4, 3, 1, 0) -> [0, 3, 1, 2, 4]\n",
      "(3, 0, 1, 2, 4) -> [0, 1, 2, 4, 3]\n",
      "(3, 0, 1, 4, 2) -> [0, 1, 2, 3, 4]\n",
      "(3, 0, 2, 1, 4) -> [0, 2, 1, 4, 3]\n",
      "(3, 0, 2, 4, 1) -> [0, 2, 1, 3, 4]\n",
      "(3, 0, 4, 1, 2) -> [0, 4, 1, 2, 3]\n",
      "(3, 0, 4, 2, 1) -> [0, 4, 1, 2, 3]\n",
      "(3, 1, 0, 2, 4) -> [0, 1, 2, 4, 3]\n",
      "(3, 1, 0, 4, 2) -> [0, 1, 2, 3, 4]\n",
      "(3, 1, 2, 0, 4) -> [0, 2, 1, 4, 3]\n",
      "(3, 1, 2, 4, 0) -> [0, 2, 1, 3, 4]\n",
      "(3, 1, 4, 0, 2) -> [0, 4, 1, 2, 3]\n",
      "(3, 1, 4, 2, 0) -> [0, 4, 1, 2, 3]\n",
      "(3, 2, 0, 1, 4) -> [0, 1, 2, 4, 3]\n",
      "(3, 2, 0, 4, 1) -> [0, 1, 2, 3, 4]\n",
      "(3, 2, 1, 0, 4) -> [0, 1, 2, 4, 3]\n",
      "(3, 2, 1, 4, 0) -> [0, 1, 2, 3, 4]\n",
      "(3, 2, 4, 0, 1) -> [0, 4, 1, 2, 3]\n",
      "(3, 2, 4, 1, 0) -> [0, 4, 1, 2, 3]\n",
      "(3, 4, 0, 1, 2) -> [0, 1, 2, 3, 4]\n",
      "(3, 4, 0, 2, 1) -> [0, 1, 2, 3, 4]\n",
      "(3, 4, 1, 0, 2) -> [0, 1, 2, 3, 4]\n",
      "(3, 4, 1, 2, 0) -> [0, 1, 2, 3, 4]\n",
      "(3, 4, 2, 0, 1) -> [0, 2, 1, 3, 4]\n",
      "(3, 4, 2, 1, 0) -> [0, 2, 1, 3, 4]\n",
      "(4, 0, 1, 2, 3) -> [0, 1, 2, 3, 4]\n",
      "(4, 0, 1, 3, 2) -> [0, 1, 2, 3, 4]\n",
      "(4, 0, 2, 1, 3) -> [0, 2, 1, 3, 4]\n",
      "(4, 0, 2, 3, 1) -> [0, 2, 1, 3, 4]\n",
      "(4, 0, 3, 1, 2) -> [0, 3, 1, 2, 4]\n",
      "(4, 0, 3, 2, 1) -> [0, 3, 1, 2, 4]\n",
      "(4, 1, 0, 2, 3) -> [0, 1, 2, 3, 4]\n",
      "(4, 1, 0, 3, 2) -> [0, 1, 2, 3, 4]\n",
      "(4, 1, 2, 0, 3) -> [0, 2, 1, 3, 4]\n",
      "(4, 1, 2, 3, 0) -> [0, 2, 1, 3, 4]\n",
      "(4, 1, 3, 0, 2) -> [0, 3, 1, 2, 4]\n",
      "(4, 1, 3, 2, 0) -> [0, 3, 1, 2, 4]\n",
      "(4, 2, 0, 1, 3) -> [0, 1, 2, 3, 4]\n",
      "(4, 2, 0, 3, 1) -> [0, 1, 2, 3, 4]\n",
      "(4, 2, 1, 0, 3) -> [0, 1, 2, 3, 4]\n",
      "(4, 2, 1, 3, 0) -> [0, 1, 2, 3, 4]\n",
      "(4, 2, 3, 0, 1) -> [0, 3, 1, 2, 4]\n",
      "(4, 2, 3, 1, 0) -> [0, 3, 1, 2, 4]\n",
      "(4, 3, 0, 1, 2) -> [0, 1, 2, 3, 4]\n",
      "(4, 3, 0, 2, 1) -> [0, 1, 2, 3, 4]\n",
      "(4, 3, 1, 0, 2) -> [0, 1, 2, 3, 4]\n",
      "(4, 3, 1, 2, 0) -> [0, 1, 2, 3, 4]\n",
      "(4, 3, 2, 0, 1) -> [0, 2, 1, 3, 4]\n",
      "(4, 3, 2, 1, 0) -> [0, 2, 1, 3, 4]\n"
     ]
    }
   ],
   "source": [
    "import itertools\n",
    "\n",
    "for perm in itertools.permutations(range(5)):\n",
    "    L = list(perm)\n",
    "    heapsort(L)\n",
    "    print(f'{perm} -> {L}')"
   ]
  },
  {
   "cell_type": "markdown",
   "id": "cbece4f4",
   "metadata": {},
   "source": [
    "## End"
   ]
  }
 ],
 "metadata": {
  "kernelspec": {
   "display_name": "Python 3 (ipykernel)",
   "language": "python",
   "name": "python3"
  },
  "language_info": {
   "codemirror_mode": {
    "name": "ipython",
    "version": 3
   },
   "file_extension": ".py",
   "mimetype": "text/x-python",
   "name": "python",
   "nbconvert_exporter": "python",
   "pygments_lexer": "ipython3",
   "version": "3.9.7"
  }
 },
 "nbformat": 4,
 "nbformat_minor": 5
}
