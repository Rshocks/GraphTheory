{
 "cells": [
  {
   "cell_type": "markdown",
   "id": "b5fe95ab",
   "metadata": {},
   "source": [
    "## Lists in Python\n",
    "***"
   ]
  },
  {
   "cell_type": "code",
   "execution_count": 182,
   "id": "e4977414",
   "metadata": {},
   "outputs": [],
   "source": [
    "L = [1, 2, 3, \"Hello World\", None, True]"
   ]
  },
  {
   "cell_type": "code",
   "execution_count": 183,
   "id": "665f9dbc",
   "metadata": {},
   "outputs": [
    {
     "data": {
      "text/plain": [
       "'Hello World'"
      ]
     },
     "execution_count": 183,
     "metadata": {},
     "output_type": "execute_result"
    }
   ],
   "source": [
    "L[3]"
   ]
  },
  {
   "cell_type": "code",
   "execution_count": 184,
   "id": "1ec34e73",
   "metadata": {},
   "outputs": [
    {
     "data": {
      "text/plain": [
       "[1, 2, 3, 4, 5]"
      ]
     },
     "execution_count": 184,
     "metadata": {},
     "output_type": "execute_result"
    }
   ],
   "source": [
    "#Create list with list function curly needed 5 wont repeat\n",
    "list({1,2,3,4,5,5})"
   ]
  },
  {
   "cell_type": "code",
   "execution_count": 185,
   "id": "bda7a1aa",
   "metadata": {},
   "outputs": [
    {
     "data": {
      "text/plain": [
       "True"
      ]
     },
     "execution_count": 185,
     "metadata": {},
     "output_type": "execute_result"
    }
   ],
   "source": [
    "#Using negative indexes opp way in list\n",
    "L[-1]"
   ]
  },
  {
   "cell_type": "code",
   "execution_count": 186,
   "id": "6517dd05",
   "metadata": {},
   "outputs": [
    {
     "data": {
      "text/plain": [
       "[0, 10, 20, 30, 40, 50, 60, 70, 80, 90]"
      ]
     },
     "execution_count": 186,
     "metadata": {},
     "output_type": "execute_result"
    }
   ],
   "source": [
    "#built in for iterables count 0 - 100 counting up in tens\n",
    "#zero not needed will auto start from it\n",
    "list(range(0,100,10))"
   ]
  },
  {
   "cell_type": "code",
   "execution_count": 187,
   "id": "0a06af11",
   "metadata": {},
   "outputs": [
    {
     "data": {
      "text/plain": [
       "[0, 1, 2, 3, 4, 5, 6, 7, 8, 9]"
      ]
     },
     "execution_count": 187,
     "metadata": {},
     "output_type": "execute_result"
    }
   ],
   "source": [
    "# List slice skipping for every input\n",
    "L = list(range(10))\n",
    "L"
   ]
  },
  {
   "cell_type": "code",
   "execution_count": 188,
   "id": "80010a38",
   "metadata": {},
   "outputs": [
    {
     "data": {
      "text/plain": [
       "[0, 3, 6, 9]"
      ]
     },
     "execution_count": 188,
     "metadata": {},
     "output_type": "execute_result"
    }
   ],
   "source": [
    "L[0:10:3]"
   ]
  },
  {
   "cell_type": "markdown",
   "id": "68da1318",
   "metadata": {},
   "source": [
    "## Bubble Sort\n",
    "***"
   ]
  },
  {
   "cell_type": "code",
   "execution_count": 189,
   "id": "9accf54d",
   "metadata": {},
   "outputs": [],
   "source": [
    "#Importing\n",
    "import random"
   ]
  },
  {
   "cell_type": "code",
   "execution_count": 190,
   "id": "e10d1806",
   "metadata": {},
   "outputs": [
    {
     "data": {
      "text/plain": [
       "[1, 2, 3, 4, 5, 6, 7, 8, 9, 10]"
      ]
     },
     "execution_count": 190,
     "metadata": {},
     "output_type": "execute_result"
    }
   ],
   "source": [
    "L = list(range(1,11))\n",
    "L"
   ]
  },
  {
   "cell_type": "code",
   "execution_count": 191,
   "id": "3aeb8e20",
   "metadata": {},
   "outputs": [
    {
     "data": {
      "text/plain": [
       "[3, 2, 8, 6, 5, 9, 10, 7, 1, 4]"
      ]
     },
     "execution_count": 191,
     "metadata": {},
     "output_type": "execute_result"
    }
   ],
   "source": [
    "#to shuffle using random\n",
    "random.shuffle(L)\n",
    "L"
   ]
  },
  {
   "cell_type": "code",
   "execution_count": 192,
   "id": "474e34a9",
   "metadata": {},
   "outputs": [
    {
     "data": {
      "text/plain": [
       "[2, 3, 6, 5, 8, 9, 7, 1, 4, 10]"
      ]
     },
     "execution_count": 192,
     "metadata": {},
     "output_type": "execute_result"
    }
   ],
   "source": [
    "no_comparisons = 0\n",
    "\n",
    "# Bubble Sort\n",
    "for i in range(len(L) -1):\n",
    "    #compare\n",
    "    if L[i] > L[i+1]:\n",
    "        #then swap\n",
    "        L[i], L[i+1] = L[i+1], L[i]\n",
    "    #add number of comparisions\n",
    "    no_comparisons = no_comparisons + 1\n",
    "L"
   ]
  },
  {
   "cell_type": "code",
   "execution_count": 193,
   "id": "6d81f8cf",
   "metadata": {},
   "outputs": [
    {
     "data": {
      "text/plain": [
       "9"
      ]
     },
     "execution_count": 193,
     "metadata": {},
     "output_type": "execute_result"
    }
   ],
   "source": [
    "#O(n)\n",
    "no_comparisons"
   ]
  },
  {
   "cell_type": "code",
   "execution_count": 194,
   "id": "f53583d8",
   "metadata": {},
   "outputs": [
    {
     "data": {
      "text/plain": [
       "[10, 4, 1, 7, 9, 8, 5, 6, 3, 2]"
      ]
     },
     "execution_count": 194,
     "metadata": {},
     "output_type": "execute_result"
    }
   ],
   "source": [
    "# worst case for bubble sort\n",
    "L[::-1]\n"
   ]
  },
  {
   "cell_type": "markdown",
   "id": "5165aa98",
   "metadata": {},
   "source": [
    "## Heap Sort\n",
    "***"
   ]
  },
  {
   "cell_type": "markdown",
   "id": "1e704c54",
   "metadata": {},
   "source": [
    "#### HeapSort Algorithm\n",
    "The idea behind heapsort is to get the highest element place it at the end repeating until all elements are sorted\n",
    "\n",
    "Heap sort works as such\n",
    "***\n",
    "\n",
    " 1)build a max heap from data, max heap def below\n",
    " \n",
    " 2)switch root with the last node then remove from heap\n",
    " \n",
    " 3)rebuild heap, repeat until one element is remaining\n",
    " \n",
    " #### HeapSort complexity \n",
    " Heapsort has a complexity of O(n log n), meaning time goes in a linear fasion while growth of said element grows exponentially\n",
    " \n",
    " #### Graph Theory & Heapsort\n",
    " Graph theory can be applied to heapsort in a few ways, the first that comes to mind is in the use of nodes, as part of a tree representation of a binary max heap\n",
    "\n",
    " When heap is a complete binary tree, its smallest height, a heap with N nodes and a branches for each node has loga N height"
   ]
  },
  {
   "cell_type": "code",
   "execution_count": 195,
   "id": "ee00baa1",
   "metadata": {},
   "outputs": [],
   "source": [
    "import math"
   ]
  },
  {
   "cell_type": "code",
   "execution_count": 196,
   "id": "ca622be4",
   "metadata": {},
   "outputs": [],
   "source": [
    "#siftdown once we make a heap, siftdown will put one element out of place at root, then siftdown will re establish heap\n",
    "def siftDown(L, parent, end):\n",
    "    \"\"\"L end + 1 should almost be a max heap siftdown repair it so that its one\"\"\"\n",
    "\n",
    "    #while parent is parent and has at least one left child\n",
    "    while (2 * parent + 1) <= end:\n",
    "        #index of children of parent\n",
    "        leftchild = 2 * parent + 1\n",
    "        rightchild = 2 * parent + 2\n",
    "        swap = parent\n",
    "        \n",
    "        #is parent smaller than left child\n",
    "        if L[swap] < L[leftchild]:\n",
    "            \n",
    "            #swap set to index of left child\n",
    "            swap = leftchild\n",
    "            \n",
    "        #check if right exists and smaller than Lswap\n",
    "        if rightchild + 1 <= end and L[swap] < L[rightchild + 1]:\n",
    "            \n",
    "            #then swap set to index of right\n",
    "            swap = rightchild + 1\n",
    "        \n",
    "        #max heap if parent bigger than children\n",
    "        if swap == parent:  \n",
    "            return\n",
    "        else:\n",
    "            #swap parent with bigger child\n",
    "            L[parent], L[swap] = L[swap], L[parent]\n",
    "            #set parent bigger than childs index\n",
    "            parent = swap"
   ]
  },
  {
   "cell_type": "code",
   "execution_count": 197,
   "id": "43283638",
   "metadata": {},
   "outputs": [],
   "source": [
    "\n",
    "def heapsort (L):\n",
    "    \"\"\"Sorts list L in place using heap sort\"\"\"\n",
    "    # turns L into max heap\n",
    "    # max heap is represented as binary tree\n",
    "    #A max-heap is a complete binary tree which the value in each internal node is greater or equal to values in the children of that node\n",
    "    \n",
    "    \n",
    "    last_element = len(L) - 1\n",
    "    \n",
    "    #find the last parent\n",
    "    last_parent = (last_element - 1) // 2 #heapify removed above \n",
    "        \n",
    "    #loops back through the nodes\n",
    "    for parent in range(last_parent, -1, -1):\n",
    "        #sift down\n",
    "        siftDown(L, parent, last_element)\n",
    "        \n",
    "    # Segregate the list L into two parts:\n",
    "    #   1. L[:end] is a max heap\n",
    "    #   2. Each element beyond end is greater than everything before it.\n",
    "\n",
    "    # int end represents the last unsorted element \n",
    "    end = last_element   \n",
    "    \n",
    "    for end in range(last_element, 0, -1):\n",
    "        L[0], L[end] = L[end], L[0] # swap element at 0 with element at end\n",
    "        #fix heap root out of place\n",
    "        siftDown(L, 0, end - 1)\n",
    "        \n",
    "    "
   ]
  },
  {
   "cell_type": "code",
   "execution_count": 198,
   "id": "f5f79899",
   "metadata": {},
   "outputs": [
    {
     "data": {
      "text/plain": [
       "4"
      ]
     },
     "execution_count": 198,
     "metadata": {},
     "output_type": "execute_result"
    }
   ],
   "source": [
    "# Divide with // gives int\n",
    "8//2"
   ]
  },
  {
   "cell_type": "code",
   "execution_count": 199,
   "id": "2fd970ca",
   "metadata": {},
   "outputs": [
    {
     "data": {
      "text/plain": [
       "4.0"
      ]
     },
     "execution_count": 199,
     "metadata": {},
     "output_type": "execute_result"
    }
   ],
   "source": [
    "# Divide with / gives float \n",
    "8/2"
   ]
  },
  {
   "cell_type": "code",
   "execution_count": 200,
   "id": "77692f42",
   "metadata": {},
   "outputs": [
    {
     "data": {
      "text/plain": [
       "[5, 1, 3, 4, 6, 7, 9]"
      ]
     },
     "execution_count": 200,
     "metadata": {},
     "output_type": "execute_result"
    }
   ],
   "source": [
    "L = [5,1,3,4,6,7,9]\n",
    "L\n"
   ]
  },
  {
   "cell_type": "code",
   "execution_count": 201,
   "id": "c4c7c531",
   "metadata": {},
   "outputs": [
    {
     "data": {
      "text/plain": [
       "[1, 7, 3, 6, 4, 9, 5]"
      ]
     },
     "execution_count": 201,
     "metadata": {},
     "output_type": "execute_result"
    }
   ],
   "source": [
    "heapsort(L)\n",
    "L"
   ]
  },
  {
   "cell_type": "code",
   "execution_count": 202,
   "id": "45583260",
   "metadata": {},
   "outputs": [
    {
     "name": "stdout",
     "output_type": "stream",
     "text": [
      "(0, 1, 2, 3, 4) -> [0, 2, 1, 4, 3]\n",
      "(0, 1, 2, 4, 3) -> [0, 2, 1, 3, 4]\n",
      "(0, 1, 3, 2, 4) -> [0, 3, 1, 4, 2]\n",
      "(0, 1, 3, 4, 2) -> [0, 3, 1, 2, 4]\n",
      "(0, 1, 4, 2, 3) -> [0, 4, 1, 3, 2]\n",
      "(0, 1, 4, 3, 2) -> [0, 4, 1, 2, 3]\n",
      "(0, 2, 1, 3, 4) -> [0, 1, 2, 4, 3]\n",
      "(0, 2, 1, 4, 3) -> [0, 1, 2, 3, 4]\n",
      "(0, 2, 3, 1, 4) -> [0, 3, 1, 4, 2]\n",
      "(0, 2, 3, 4, 1) -> [0, 3, 1, 2, 4]\n",
      "(0, 2, 4, 1, 3) -> [0, 4, 1, 3, 2]\n",
      "(0, 2, 4, 3, 1) -> [0, 4, 1, 2, 3]\n",
      "(0, 3, 1, 2, 4) -> [0, 1, 2, 4, 3]\n",
      "(0, 3, 1, 4, 2) -> [0, 1, 2, 3, 4]\n",
      "(0, 3, 2, 1, 4) -> [0, 2, 1, 4, 3]\n",
      "(0, 3, 2, 4, 1) -> [0, 2, 1, 3, 4]\n",
      "(0, 3, 4, 1, 2) -> [0, 4, 1, 2, 3]\n",
      "(0, 3, 4, 2, 1) -> [0, 4, 1, 2, 3]\n",
      "(0, 4, 1, 2, 3) -> [0, 1, 2, 3, 4]\n",
      "(0, 4, 1, 3, 2) -> [0, 1, 2, 3, 4]\n",
      "(0, 4, 2, 1, 3) -> [0, 2, 1, 3, 4]\n",
      "(0, 4, 2, 3, 1) -> [0, 2, 1, 3, 4]\n",
      "(0, 4, 3, 1, 2) -> [0, 3, 1, 2, 4]\n",
      "(0, 4, 3, 2, 1) -> [0, 3, 1, 2, 4]\n",
      "(1, 0, 2, 3, 4) -> [0, 2, 1, 4, 3]\n",
      "(1, 0, 2, 4, 3) -> [0, 2, 1, 3, 4]\n",
      "(1, 0, 3, 2, 4) -> [0, 3, 1, 4, 2]\n",
      "(1, 0, 3, 4, 2) -> [0, 3, 1, 2, 4]\n",
      "(1, 0, 4, 2, 3) -> [0, 4, 1, 3, 2]\n",
      "(1, 0, 4, 3, 2) -> [0, 4, 1, 2, 3]\n",
      "(1, 2, 0, 3, 4) -> [0, 1, 2, 4, 3]\n",
      "(1, 2, 0, 4, 3) -> [0, 1, 2, 3, 4]\n",
      "(1, 2, 3, 0, 4) -> [0, 3, 1, 4, 2]\n",
      "(1, 2, 3, 4, 0) -> [0, 3, 1, 2, 4]\n",
      "(1, 2, 4, 0, 3) -> [0, 4, 1, 3, 2]\n",
      "(1, 2, 4, 3, 0) -> [0, 4, 1, 2, 3]\n",
      "(1, 3, 0, 2, 4) -> [0, 1, 2, 4, 3]\n",
      "(1, 3, 0, 4, 2) -> [0, 1, 2, 3, 4]\n",
      "(1, 3, 2, 0, 4) -> [0, 2, 1, 4, 3]\n",
      "(1, 3, 2, 4, 0) -> [0, 2, 1, 3, 4]\n",
      "(1, 3, 4, 0, 2) -> [0, 4, 1, 2, 3]\n",
      "(1, 3, 4, 2, 0) -> [0, 4, 1, 2, 3]\n",
      "(1, 4, 0, 2, 3) -> [0, 1, 2, 3, 4]\n",
      "(1, 4, 0, 3, 2) -> [0, 1, 2, 3, 4]\n",
      "(1, 4, 2, 0, 3) -> [0, 2, 1, 3, 4]\n",
      "(1, 4, 2, 3, 0) -> [0, 2, 1, 3, 4]\n",
      "(1, 4, 3, 0, 2) -> [0, 3, 1, 2, 4]\n",
      "(1, 4, 3, 2, 0) -> [0, 3, 1, 2, 4]\n",
      "(2, 0, 1, 3, 4) -> [0, 1, 2, 4, 3]\n",
      "(2, 0, 1, 4, 3) -> [0, 1, 2, 3, 4]\n",
      "(2, 0, 3, 1, 4) -> [0, 3, 1, 4, 2]\n",
      "(2, 0, 3, 4, 1) -> [0, 3, 1, 2, 4]\n",
      "(2, 0, 4, 1, 3) -> [0, 4, 1, 3, 2]\n",
      "(2, 0, 4, 3, 1) -> [0, 4, 1, 2, 3]\n",
      "(2, 1, 0, 3, 4) -> [0, 1, 2, 4, 3]\n",
      "(2, 1, 0, 4, 3) -> [0, 1, 2, 3, 4]\n",
      "(2, 1, 3, 0, 4) -> [0, 3, 1, 4, 2]\n",
      "(2, 1, 3, 4, 0) -> [0, 3, 1, 2, 4]\n",
      "(2, 1, 4, 0, 3) -> [0, 4, 1, 3, 2]\n",
      "(2, 1, 4, 3, 0) -> [0, 4, 1, 2, 3]\n",
      "(2, 3, 0, 1, 4) -> [0, 1, 2, 4, 3]\n",
      "(2, 3, 0, 4, 1) -> [0, 1, 2, 3, 4]\n",
      "(2, 3, 1, 0, 4) -> [0, 1, 2, 4, 3]\n",
      "(2, 3, 1, 4, 0) -> [0, 1, 2, 3, 4]\n",
      "(2, 3, 4, 0, 1) -> [0, 4, 1, 2, 3]\n",
      "(2, 3, 4, 1, 0) -> [0, 4, 1, 2, 3]\n",
      "(2, 4, 0, 1, 3) -> [0, 1, 2, 3, 4]\n",
      "(2, 4, 0, 3, 1) -> [0, 1, 2, 3, 4]\n",
      "(2, 4, 1, 0, 3) -> [0, 1, 2, 3, 4]\n",
      "(2, 4, 1, 3, 0) -> [0, 1, 2, 3, 4]\n",
      "(2, 4, 3, 0, 1) -> [0, 3, 1, 2, 4]\n",
      "(2, 4, 3, 1, 0) -> [0, 3, 1, 2, 4]\n",
      "(3, 0, 1, 2, 4) -> [0, 1, 2, 4, 3]\n",
      "(3, 0, 1, 4, 2) -> [0, 1, 2, 3, 4]\n",
      "(3, 0, 2, 1, 4) -> [0, 2, 1, 4, 3]\n",
      "(3, 0, 2, 4, 1) -> [0, 2, 1, 3, 4]\n",
      "(3, 0, 4, 1, 2) -> [0, 4, 1, 2, 3]\n",
      "(3, 0, 4, 2, 1) -> [0, 4, 1, 2, 3]\n",
      "(3, 1, 0, 2, 4) -> [0, 1, 2, 4, 3]\n",
      "(3, 1, 0, 4, 2) -> [0, 1, 2, 3, 4]\n",
      "(3, 1, 2, 0, 4) -> [0, 2, 1, 4, 3]\n",
      "(3, 1, 2, 4, 0) -> [0, 2, 1, 3, 4]\n",
      "(3, 1, 4, 0, 2) -> [0, 4, 1, 2, 3]\n",
      "(3, 1, 4, 2, 0) -> [0, 4, 1, 2, 3]\n",
      "(3, 2, 0, 1, 4) -> [0, 1, 2, 4, 3]\n",
      "(3, 2, 0, 4, 1) -> [0, 1, 2, 3, 4]\n",
      "(3, 2, 1, 0, 4) -> [0, 1, 2, 4, 3]\n",
      "(3, 2, 1, 4, 0) -> [0, 1, 2, 3, 4]\n",
      "(3, 2, 4, 0, 1) -> [0, 4, 1, 2, 3]\n",
      "(3, 2, 4, 1, 0) -> [0, 4, 1, 2, 3]\n",
      "(3, 4, 0, 1, 2) -> [0, 1, 2, 3, 4]\n",
      "(3, 4, 0, 2, 1) -> [0, 1, 2, 3, 4]\n",
      "(3, 4, 1, 0, 2) -> [0, 1, 2, 3, 4]\n",
      "(3, 4, 1, 2, 0) -> [0, 1, 2, 3, 4]\n",
      "(3, 4, 2, 0, 1) -> [0, 2, 1, 3, 4]\n",
      "(3, 4, 2, 1, 0) -> [0, 2, 1, 3, 4]\n",
      "(4, 0, 1, 2, 3) -> [0, 1, 2, 3, 4]\n",
      "(4, 0, 1, 3, 2) -> [0, 1, 2, 3, 4]\n",
      "(4, 0, 2, 1, 3) -> [0, 2, 1, 3, 4]\n",
      "(4, 0, 2, 3, 1) -> [0, 2, 1, 3, 4]\n",
      "(4, 0, 3, 1, 2) -> [0, 3, 1, 2, 4]\n",
      "(4, 0, 3, 2, 1) -> [0, 3, 1, 2, 4]\n",
      "(4, 1, 0, 2, 3) -> [0, 1, 2, 3, 4]\n",
      "(4, 1, 0, 3, 2) -> [0, 1, 2, 3, 4]\n",
      "(4, 1, 2, 0, 3) -> [0, 2, 1, 3, 4]\n",
      "(4, 1, 2, 3, 0) -> [0, 2, 1, 3, 4]\n",
      "(4, 1, 3, 0, 2) -> [0, 3, 1, 2, 4]\n",
      "(4, 1, 3, 2, 0) -> [0, 3, 1, 2, 4]\n",
      "(4, 2, 0, 1, 3) -> [0, 1, 2, 3, 4]\n",
      "(4, 2, 0, 3, 1) -> [0, 1, 2, 3, 4]\n",
      "(4, 2, 1, 0, 3) -> [0, 1, 2, 3, 4]\n",
      "(4, 2, 1, 3, 0) -> [0, 1, 2, 3, 4]\n",
      "(4, 2, 3, 0, 1) -> [0, 3, 1, 2, 4]\n",
      "(4, 2, 3, 1, 0) -> [0, 3, 1, 2, 4]\n",
      "(4, 3, 0, 1, 2) -> [0, 1, 2, 3, 4]\n",
      "(4, 3, 0, 2, 1) -> [0, 1, 2, 3, 4]\n",
      "(4, 3, 1, 0, 2) -> [0, 1, 2, 3, 4]\n",
      "(4, 3, 1, 2, 0) -> [0, 1, 2, 3, 4]\n",
      "(4, 3, 2, 0, 1) -> [0, 2, 1, 3, 4]\n",
      "(4, 3, 2, 1, 0) -> [0, 2, 1, 3, 4]\n"
     ]
    }
   ],
   "source": [
    "import itertools\n",
    "\n",
    "for perm in itertools.permutations(range(5)):\n",
    "    L = list(perm)\n",
    "    heapsort(L)\n",
    "    print(f'{perm} -> {L}')"
   ]
  },
  {
   "cell_type": "markdown",
   "id": "cbece4f4",
   "metadata": {},
   "source": [
    "## $\\log_b n$\n",
    "\n",
    "***"
   ]
  },
  {
   "cell_type": "markdown",
   "id": "e5b5127b",
   "metadata": {},
   "source": [
    "$ 2^4 = 2 \\times 2 \\times 2 \\times 2 = 16$\n",
    "\n",
    "$2^{-4} = \\frac{1}{2^4}$\n",
    "\n",
    "$2^4 \\times 2^{-4} = 2^{4 + (-4)} = 2^{0} = 1 $\n",
    "\n",
    "$ 2^{0.5} = \\sqrt{2}$"
   ]
  },
  {
   "cell_type": "code",
   "execution_count": 203,
   "id": "760ec5c5",
   "metadata": {},
   "outputs": [
    {
     "data": {
      "text/plain": [
       "16"
      ]
     },
     "execution_count": 203,
     "metadata": {},
     "output_type": "execute_result"
    }
   ],
   "source": [
    "2**4"
   ]
  },
  {
   "cell_type": "code",
   "execution_count": 204,
   "id": "6428eef3",
   "metadata": {},
   "outputs": [
    {
     "data": {
      "text/plain": [
       "0.0625"
      ]
     },
     "execution_count": 204,
     "metadata": {},
     "output_type": "execute_result"
    }
   ],
   "source": [
    "2**(-4)"
   ]
  },
  {
   "cell_type": "code",
   "execution_count": 205,
   "id": "0494affa",
   "metadata": {},
   "outputs": [
    {
     "data": {
      "text/plain": [
       "1.4142135623730951"
      ]
     },
     "execution_count": 205,
     "metadata": {},
     "output_type": "execute_result"
    }
   ],
   "source": [
    "2 ** (0.5)"
   ]
  },
  {
   "cell_type": "markdown",
   "id": "b7ba98e4",
   "metadata": {},
   "source": [
    "<br>\n",
    "\n",
    "$ b^a = n \\Leftrightarrow \\log_b n = a$\n",
    "\n",
    "$ 2^4 = 16 \\Leftrightarrow \\log_2 16 = 4$"
   ]
  },
  {
   "cell_type": "code",
   "execution_count": 206,
   "id": "049f503f",
   "metadata": {},
   "outputs": [
    {
     "data": {
      "text/plain": [
       "4.0"
      ]
     },
     "execution_count": 206,
     "metadata": {},
     "output_type": "execute_result"
    }
   ],
   "source": [
    "math.log(16, 2)"
   ]
  },
  {
   "cell_type": "markdown",
   "id": "0c69deee",
   "metadata": {},
   "source": [
    "## Height of Binary Tree\n",
    "\n",
    "***"
   ]
  },
  {
   "cell_type": "code",
   "execution_count": 207,
   "id": "f1105412",
   "metadata": {},
   "outputs": [
    {
     "name": "stdout",
     "output_type": "stream",
     "text": [
      "[0, 1, 2, 3, 4, 5, 6, 7, 8, 9, 10, 11, 12, 13, 14, 15, 16, 17, 18, 19, 20, 21, 22, 23, 24, 25, 26, 27, 28, 29, 30]\n"
     ]
    }
   ],
   "source": [
    "# Length of the List\n",
    "n = 31\n",
    "#Create a list of length n\n",
    "L = list(range(n))\n",
    "#show list\n",
    "print(L)\n",
    "#Draw the tree from L"
   ]
  },
  {
   "cell_type": "code",
   "execution_count": 208,
   "id": "70179b1a",
   "metadata": {},
   "outputs": [
    {
     "data": {
      "text/plain": [
       "31"
      ]
     },
     "execution_count": 208,
     "metadata": {},
     "output_type": "execute_result"
    }
   ],
   "source": [
    "2**0 + 2**1 + 2**2 + 2**3 + 2**4"
   ]
  },
  {
   "cell_type": "code",
   "execution_count": 209,
   "id": "c5454efb",
   "metadata": {},
   "outputs": [],
   "source": [
    "def max_list_length(height):\n",
    "    total_nodes = 0\n",
    "    for i in range(height + 1):\n",
    "        total_nodes = total_nodes + 2**i\n",
    "    return total_nodes"
   ]
  },
  {
   "cell_type": "code",
   "execution_count": 210,
   "id": "40b5a026",
   "metadata": {},
   "outputs": [
    {
     "data": {
      "text/plain": [
       "31"
      ]
     },
     "execution_count": 210,
     "metadata": {},
     "output_type": "execute_result"
    }
   ],
   "source": [
    "max_list_length(4)"
   ]
  },
  {
   "cell_type": "code",
   "execution_count": 211,
   "id": "3673e8a7",
   "metadata": {},
   "outputs": [
    {
     "data": {
      "text/plain": [
       "2047"
      ]
     },
     "execution_count": 211,
     "metadata": {},
     "output_type": "execute_result"
    }
   ],
   "source": [
    "max_list_length(10)"
   ]
  },
  {
   "cell_type": "markdown",
   "id": "397e5d04",
   "metadata": {},
   "source": [
    "$ 2^{h+1} - 1 = \\sum_{i=0}^h 2^i $"
   ]
  },
  {
   "cell_type": "code",
   "execution_count": 212,
   "id": "d166506b",
   "metadata": {},
   "outputs": [
    {
     "data": {
      "text/plain": [
       "32"
      ]
     },
     "execution_count": 212,
     "metadata": {},
     "output_type": "execute_result"
    }
   ],
   "source": [
    "2**5"
   ]
  },
  {
   "cell_type": "code",
   "execution_count": 213,
   "id": "72e748a2",
   "metadata": {},
   "outputs": [
    {
     "data": {
      "text/plain": [
       "2048"
      ]
     },
     "execution_count": 213,
     "metadata": {},
     "output_type": "execute_result"
    }
   ],
   "source": [
    "2**11"
   ]
  },
  {
   "cell_type": "code",
   "execution_count": 214,
   "id": "ac384a70",
   "metadata": {},
   "outputs": [
    {
     "data": {
      "text/plain": [
       "255"
      ]
     },
     "execution_count": 214,
     "metadata": {},
     "output_type": "execute_result"
    }
   ],
   "source": [
    "0b011111111"
   ]
  },
  {
   "cell_type": "code",
   "execution_count": 215,
   "id": "46aaf432",
   "metadata": {},
   "outputs": [
    {
     "data": {
      "text/plain": [
       "255"
      ]
     },
     "execution_count": 215,
     "metadata": {},
     "output_type": "execute_result"
    }
   ],
   "source": [
    "(1 * 2**7) + (1 * 2**6) + (1 * 2**5)+ (1 * 2**4)+ (1 * 2**3)+ (1 * 2**2)+ (1 * 2**1)+ (1 * 2**0)"
   ]
  },
  {
   "cell_type": "code",
   "execution_count": 216,
   "id": "77fee122",
   "metadata": {},
   "outputs": [],
   "source": [
    "def max_list_length(height):\n",
    "    return 2**(height+1) -1"
   ]
  },
  {
   "cell_type": "code",
   "execution_count": 217,
   "id": "a5b24cd6",
   "metadata": {},
   "outputs": [
    {
     "data": {
      "text/plain": [
       "31"
      ]
     },
     "execution_count": 217,
     "metadata": {},
     "output_type": "execute_result"
    }
   ],
   "source": [
    "max_list_length(4)"
   ]
  },
  {
   "cell_type": "code",
   "execution_count": 218,
   "id": "d796fc74",
   "metadata": {},
   "outputs": [
    {
     "data": {
      "text/plain": [
       "2047"
      ]
     },
     "execution_count": 218,
     "metadata": {},
     "output_type": "execute_result"
    }
   ],
   "source": [
    "max_list_length(10)"
   ]
  },
  {
   "cell_type": "code",
   "execution_count": 219,
   "id": "2605b79e",
   "metadata": {},
   "outputs": [
    {
     "data": {
      "text/plain": [
       "256"
      ]
     },
     "execution_count": 219,
     "metadata": {},
     "output_type": "execute_result"
    }
   ],
   "source": [
    "0b100000000"
   ]
  },
  {
   "cell_type": "code",
   "execution_count": 220,
   "id": "0d9b0001",
   "metadata": {},
   "outputs": [
    {
     "name": "stdout",
     "output_type": "stream",
     "text": [
      "32\t 5.0\n",
      "31\t 4.95\n",
      "30\t 4.91\n",
      "29\t 4.86\n",
      "28\t 4.81\n",
      "27\t 4.75\n",
      "26\t 4.7\n",
      "25\t 4.64\n",
      "24\t 4.58\n",
      "23\t 4.52\n",
      "22\t 4.46\n",
      "21\t 4.39\n",
      "20\t 4.32\n",
      "19\t 4.25\n",
      "18\t 4.17\n",
      "17\t 4.09\n",
      "16\t 4.0\n",
      "15\t 3.91\n",
      "14\t 3.81\n",
      "13\t 3.7\n",
      "12\t 3.58\n",
      "11\t 3.46\n",
      "10\t 3.32\n",
      " 9\t 3.17\n",
      " 8\t 3.0\n",
      " 7\t 2.81\n",
      " 6\t 2.58\n",
      " 5\t 2.32\n",
      " 4\t 2.0\n",
      " 3\t 1.58\n",
      " 2\t 1.0\n",
      " 1\t 0.0\n"
     ]
    }
   ],
   "source": [
    "import math\n",
    "for length in range(32, 0, -1):\n",
    "    print(f'{length:2}\\t {math.log(length, 2):2.3}')"
   ]
  },
  {
   "cell_type": "markdown",
   "id": "12b96b1b",
   "metadata": {},
   "source": [
    "## Big O\n",
    "\n",
    "***"
   ]
  },
  {
   "cell_type": "code",
   "execution_count": 221,
   "id": "5e42836c",
   "metadata": {},
   "outputs": [],
   "source": [
    "import numpy as np\n",
    "x = np.arange(0.1,1000.0,0.1)\n",
    "\n",
    "y1 = x**2\n",
    "\n",
    "y2 = x * np.log(x)"
   ]
  },
  {
   "cell_type": "code",
   "execution_count": 223,
   "id": "48babb77",
   "metadata": {},
   "outputs": [
    {
     "data": {
      "text/plain": [
       "<matplotlib.legend.Legend at 0x1cd0f89dac0>"
      ]
     },
     "execution_count": 223,
     "metadata": {},
     "output_type": "execute_result"
    },
    {
     "data": {
      "image/png": "[encoded data removed]",
      "text/plain": [
       "<Figure size 1440x576 with 1 Axes>"
      ]
     },
     "metadata": {
      "needs_background": "light"
     },
     "output_type": "display_data"
    }
   ],
   "source": [
    "plt.plot(x, y1, label='$n^2$')\n",
    "plt.plot(x, y2, label='$n \\log(n)$')\n",
    "\n",
    "plt.legend()"
   ]
  },
  {
   "cell_type": "markdown",
   "id": "19f75bc9",
   "metadata": {},
   "source": [
    "**DEF**\n",
    "\n",
    "$ f(n) = x^2 $ is $ O(g(n)) $ where $ g(n) = x^3$\n",
    "\n",
    "because\n",
    "\n",
    "$ 1 \\times g(n) > f(n) $ for all $n > 1$\n",
    "\n",
    "where\n",
    "\n",
    "$n_0 = 1$ in this case.\n"
   ]
  },
  {
   "cell_type": "code",
   "execution_count": 224,
   "id": "a04d6e8f",
   "metadata": {},
   "outputs": [
    {
     "data": {
      "text/plain": [
       "<matplotlib.legend.Legend at 0x1cd106f8eb0>"
      ]
     },
     "execution_count": 224,
     "metadata": {},
     "output_type": "execute_result"
    },
    {
     "data": {
      "image/png": "[encoded data removed]",
      "text/plain": [
       "<Figure size 1440x576 with 1 Axes>"
      ]
     },
     "metadata": {
      "needs_background": "light"
     },
     "output_type": "display_data"
    }
   ],
   "source": [
    "n = np.arange(0.0, 2.1, 0.01)\n",
    "\n",
    "plt.plot(n, n**2, label='$n^2$')\n",
    "plt.plot(n, n**3, label='$n^3$')\n",
    "\n",
    "plt.legend()"
   ]
  },
  {
   "cell_type": "markdown",
   "id": "3d42aeb4",
   "metadata": {},
   "source": [
    "technically $2n^2$ is $O(n^2)$ even though"
   ]
  },
  {
   "cell_type": "code",
   "execution_count": 225,
   "id": "bb9708e6",
   "metadata": {},
   "outputs": [
    {
     "data": {
      "text/plain": [
       "<matplotlib.legend.Legend at 0x1cd10786be0>"
      ]
     },
     "execution_count": 225,
     "metadata": {},
     "output_type": "execute_result"
    },
    {
     "data": {
      "image/png": "[encoded data removed]",
      "text/plain": [
       "<Figure size 1440x576 with 1 Axes>"
      ]
     },
     "metadata": {
      "needs_background": "light"
     },
     "output_type": "display_data"
    }
   ],
   "source": [
    "n = np.arange(0.0, 2.1, 0.01)\n",
    "\n",
    "plt.plot(n, 2.0 * (n**2), label='$2n^2$')\n",
    "plt.plot(n, n**2, label='$n^2$')\n",
    "\n",
    "plt.legend()"
   ]
  },
  {
   "cell_type": "markdown",
   "id": "53cc2687",
   "metadata": {},
   "source": [
    "$ n \\times \\log(n) $ + $n \\times \\log(n) = 2 \\log(n) $\n",
    "\n",
    "$2 n \\log(n)$ is O(n\\log(n))"
   ]
  },
  {
   "cell_type": "markdown",
   "id": "1c95cb18",
   "metadata": {},
   "source": [
    "## End\n",
    "***"
   ]
  }
 ],
 "metadata": {
  "kernelspec": {
   "display_name": "Python 3 (ipykernel)",
   "language": "python",
   "name": "python3"
  },
  "language_info": {
   "codemirror_mode": {
    "name": "ipython",
    "version": 3
   },
   "file_extension": ".py",
   "mimetype": "text/x-python",
   "name": "python",
   "nbconvert_exporter": "python",
   "pygments_lexer": "ipython3",
   "version": "3.9.7"
  }
 },
 "nbformat": 4,
 "nbformat_minor": 5
}
