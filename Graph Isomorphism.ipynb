{
 "cells": [
  {
   "cell_type": "markdown",
   "id": "3764e817",
   "metadata": {},
   "source": [
    "## Graph Isomorphism\n",
    "***"
   ]
  },
  {
   "cell_type": "code",
   "execution_count": 13,
   "id": "ec755885",
   "metadata": {},
   "outputs": [],
   "source": [
    "import matplotlib.pyplot as plt\n",
    "import numpy as np #provides numerical arrays in python written in C\n",
    "import itertools as it\n",
    "import networkx as nx # provides algorithms for graphs using it for visualising graphs\n",
    "import math"
   ]
  },
  {
   "cell_type": "code",
   "execution_count": 14,
   "id": "354a33bd",
   "metadata": {},
   "outputs": [],
   "source": [
    "plt.rcParams['figure.figsize'] = (14, 6)"
   ]
  },
  {
   "cell_type": "code",
   "execution_count": 15,
   "id": "65b74c9b",
   "metadata": {},
   "outputs": [],
   "source": [
    "#drawing params\n",
    "params = {'node_color': 'red', 'node_size':800, 'font_size': 18, 'with_labels':True}"
   ]
  },
  {
   "cell_type": "markdown",
   "id": "f3f60183",
   "metadata": {},
   "source": [
    "## Graphs\n",
    "***"
   ]
  },
  {
   "cell_type": "code",
   "execution_count": 16,
   "id": "1f6b93c6",
   "metadata": {},
   "outputs": [],
   "source": [
    "#making empty graph\n",
    "#constructor of instance difined in networkx\n",
    "G = nx.Graph()"
   ]
  },
  {
   "cell_type": "code",
   "execution_count": 17,
   "id": "425d54b7",
   "metadata": {},
   "outputs": [],
   "source": [
    "#using tuple using array/lists that cant be changed\n",
    "# three elements in tuple, three nodes three edges\n",
    "#cant use sets\n",
    "E = ((1,0),(1,2),(0,2))"
   ]
  },
  {
   "cell_type": "code",
   "execution_count": 18,
   "id": "6d4c04e3",
   "metadata": {},
   "outputs": [],
   "source": [
    "# adding tuple edges\n",
    "G.add_edges_from(E)"
   ]
  },
  {
   "cell_type": "code",
   "execution_count": 19,
   "id": "6348b27b",
   "metadata": {},
   "outputs": [
    {
     "data": {
      "image/png": "[encoded data removed]",
      "text/plain": [
       "<Figure size 1008x432 with 1 Axes>"
      ]
     },
     "metadata": {},
     "output_type": "display_data"
    }
   ],
   "source": [
    "#can see all edges connected\n",
    "nx.draw_circular(G, **params)"
   ]
  },
  {
   "cell_type": "markdown",
   "id": "9e30145e",
   "metadata": {},
   "source": [
    "## Adjacency Matrices\n",
    "***"
   ]
  },
  {
   "cell_type": "code",
   "execution_count": 20,
   "id": "09828e12",
   "metadata": {},
   "outputs": [
    {
     "name": "stdout",
     "output_type": "stream",
     "text": [
      "[[0. 1. 1.]\n",
      " [1. 0. 1.]\n",
      " [1. 1. 0.]]\n"
     ]
    }
   ],
   "source": [
    "#first row and col relate to 0\n",
    "#0 no connection, 1 connection float not really suitable for binary\n",
    "print(nx.to_numpy_array(G))"
   ]
  },
  {
   "cell_type": "code",
   "execution_count": 21,
   "id": "5a5b9e82",
   "metadata": {},
   "outputs": [
    {
     "name": "stdout",
     "output_type": "stream",
     "text": [
      "[[0 1 1]\n",
      " [1 0 1]\n",
      " [1 1 0]]\n"
     ]
    }
   ],
   "source": [
    "#convert to unassigned 8 bit integer\n",
    "A = nx.to_numpy_array(G).astype(np.uint8)\n",
    "print(A)"
   ]
  },
  {
   "cell_type": "code",
   "execution_count": 22,
   "id": "c51c6dbf",
   "metadata": {},
   "outputs": [
    {
     "name": "stdout",
     "output_type": "stream",
     "text": [
      "[[0 1 1]\n",
      " [1 0 1]\n",
      " [1 1 0]]\n"
     ]
    }
   ],
   "source": [
    "#transpose is where you take rows, turn into cols, and use that as matrix\n",
    "print(A.T) # numpy has method with T which transpose the matrix"
   ]
  },
  {
   "cell_type": "code",
   "execution_count": 23,
   "id": "60200ccb",
   "metadata": {},
   "outputs": [
    {
     "name": "stdout",
     "output_type": "stream",
     "text": [
      "[[ True  True  True]\n",
      " [ True  True  True]\n",
      " [ True  True  True]]\n"
     ]
    }
   ],
   "source": [
    "# ask T are they all ==\n",
    "print(A.T == A)"
   ]
  },
  {
   "cell_type": "code",
   "execution_count": 24,
   "id": "25f10ce5",
   "metadata": {},
   "outputs": [
    {
     "data": {
      "text/plain": [
       "True"
      ]
     },
     "execution_count": 24,
     "metadata": {},
     "output_type": "execute_result"
    }
   ],
   "source": [
    "(A.T == A).all()"
   ]
  },
  {
   "cell_type": "code",
   "execution_count": 25,
   "id": "617dac44",
   "metadata": {},
   "outputs": [],
   "source": [
    "#cleaner way of getting matrix without []\n",
    "def matrix_print(A):\n",
    "    for r in A:\n",
    "        print(str(r)[1:-1])\n",
    "    print()"
   ]
  },
  {
   "cell_type": "code",
   "execution_count": 26,
   "id": "17fadda1",
   "metadata": {},
   "outputs": [
    {
     "name": "stdout",
     "output_type": "stream",
     "text": [
      "0 1 1\n",
      "1 0 1\n",
      "1 1 0\n",
      "\n"
     ]
    }
   ],
   "source": [
    "#easier to read\n",
    "matrix_print(A)"
   ]
  },
  {
   "cell_type": "markdown",
   "id": "3668ab5f",
   "metadata": {},
   "source": [
    "## Permutations\n",
    "***"
   ]
  },
  {
   "cell_type": "code",
   "execution_count": 27,
   "id": "ec64ca3e",
   "metadata": {},
   "outputs": [
    {
     "data": {
      "text/plain": [
       "[1, 2, 3]"
      ]
     },
     "execution_count": 27,
     "metadata": {},
     "output_type": "execute_result"
    }
   ],
   "source": [
    "# one to four as thats to three rather than starting at 0 looks cleaner\n",
    "L = list(range(1,4))\n",
    "L"
   ]
  },
  {
   "cell_type": "code",
   "execution_count": 28,
   "id": "7a3a7f5b",
   "metadata": {},
   "outputs": [
    {
     "name": "stdout",
     "output_type": "stream",
     "text": [
      "(1, 2, 3)\n",
      "(1, 3, 2)\n",
      "(2, 1, 3)\n",
      "(2, 3, 1)\n",
      "(3, 1, 2)\n",
      "(3, 2, 1)\n"
     ]
    }
   ],
   "source": [
    "#permutations how many time such a element may be swapped\n",
    "#grows factoral in length of list, very bad case senario although not the worst\n",
    "perms = it.permutations(L)\n",
    "\n",
    "for perm in perms:\n",
    "    print(perm)\n",
    "#six permutations of 3\n",
    "#perms generator generating one at a time"
   ]
  },
  {
   "cell_type": "markdown",
   "id": "ecebbb81",
   "metadata": {},
   "source": [
    "## Permutation Matrices\n",
    "***"
   ]
  },
  {
   "cell_type": "code",
   "execution_count": 29,
   "id": "4937891e",
   "metadata": {},
   "outputs": [],
   "source": [
    "N = 3"
   ]
  },
  {
   "cell_type": "code",
   "execution_count": 30,
   "id": "e3bc43a6",
   "metadata": {},
   "outputs": [
    {
     "data": {
      "text/plain": [
       "array([1, 2, 3], dtype=uint8)"
      ]
     },
     "execution_count": 30,
     "metadata": {},
     "output_type": "execute_result"
    }
   ],
   "source": [
    "#np will take a python gernerator and cast into an array\n",
    "#making array for 1 to N, one dimensional array\n",
    "L = np.array(range(1, N+1)).astype(np.uint8)\n",
    "L"
   ]
  },
  {
   "cell_type": "code",
   "execution_count": 39,
   "id": "c6e2a9a8",
   "metadata": {},
   "outputs": [
    {
     "name": "stdout",
     "output_type": "stream",
     "text": [
      "1 0 0\n",
      "0 1 0\n",
      "0 0 1\n",
      "\n"
     ]
    }
   ],
   "source": [
    "#identity matrix zero everywhere bar diagonal left to right\n",
    "#if you multi on right or left with another matrix get the same matrix back\n",
    "I = np.identity(N).astype(np.uint8)\n",
    "matrix_print(I)"
   ]
  },
  {
   "cell_type": "code",
   "execution_count": 42,
   "id": "228684f1",
   "metadata": {},
   "outputs": [
    {
     "name": "stdout",
     "output_type": "stream",
     "text": [
      "1 0 0\n",
      "0 1 0\n",
      "0 0 1\n",
      "\n",
      "1 0 0\n",
      "0 0 1\n",
      "0 1 0\n",
      "\n",
      "0 1 0\n",
      "1 0 0\n",
      "0 0 1\n",
      "\n",
      "0 1 0\n",
      "0 0 1\n",
      "1 0 0\n",
      "\n",
      "0 0 1\n",
      "1 0 0\n",
      "0 1 0\n",
      "\n",
      "0 0 1\n",
      "0 1 0\n",
      "1 0 0\n",
      "\n"
     ]
    }
   ],
   "source": [
    "#list(p) each time go around p, passed as list not tuple,give I first second third element\n",
    "#permutation of rows on identity matrix, matrix with all zero bar having a one in a row\n",
    "perms = it.permutations(range(N))\n",
    "for p in perms:\n",
    "    Pmat = I[list(p)]\n",
    "    matrix_print(Pmat)"
   ]
  },
  {
   "cell_type": "code",
   "execution_count": 43,
   "id": "89064e63",
   "metadata": {},
   "outputs": [
    {
     "name": "stdout",
     "output_type": "stream",
     "text": [
      "[[1 0 0]\n",
      " [0 2 0]\n",
      " [0 0 3]]\n",
      "[[1 0 0]\n",
      " [0 0 3]\n",
      " [0 2 0]]\n",
      "[[0 2 0]\n",
      " [1 0 0]\n",
      " [0 0 3]]\n",
      "[[0 2 0]\n",
      " [0 0 3]\n",
      " [1 0 0]]\n",
      "[[0 0 3]\n",
      " [1 0 0]\n",
      " [0 2 0]]\n",
      "[[0 0 3]\n",
      " [0 2 0]\n",
      " [1 0 0]]\n"
     ]
    }
   ],
   "source": [
    "perms = it.permutations(range(N))\n",
    "\n",
    "#treat np array above as matrix\n",
    "for p in perms:\n",
    "    Pmat = I[list(p)]\n",
    "    Lp = L * Pmat # not matrix multi @ operator to multi two matrices\n",
    "    \n",
    "    print(Lp)\n"
   ]
  },
  {
   "cell_type": "code",
   "execution_count": 45,
   "id": "6925b558",
   "metadata": {},
   "outputs": [
    {
     "name": "stdout",
     "output_type": "stream",
     "text": [
      "0 1 1\n",
      "1 0 1\n",
      "1 1 0\n",
      "\n",
      "0 1 1\n",
      "1 0 1\n",
      "1 1 0\n",
      "\n",
      "0 1 1\n",
      "1 0 1\n",
      "1 1 0\n",
      "\n",
      "0 1 1\n",
      "1 0 1\n",
      "1 1 0\n",
      "\n",
      "0 1 1\n",
      "1 0 1\n",
      "1 1 0\n",
      "\n",
      "0 1 1\n",
      "1 0 1\n",
      "1 1 0\n",
      "\n"
     ]
    }
   ],
   "source": [
    "perms = it.permutations(range(N))\n",
    "\n",
    "for p in perms:\n",
    "    Pmat = I[list(p)]\n",
    "    Ap = Pmat @ A @ Pmat.T \n",
    "    \n",
    "    matrix_print(Ap)"
   ]
  },
  {
   "cell_type": "code",
   "execution_count": null,
   "id": "74379a29",
   "metadata": {},
   "outputs": [],
   "source": []
  }
 ],
 "metadata": {
  "kernelspec": {
   "display_name": "Python 3 (ipykernel)",
   "language": "python",
   "name": "python3"
  },
  "language_info": {
   "codemirror_mode": {
    "name": "ipython",
    "version": 3
   },
   "file_extension": ".py",
   "mimetype": "text/x-python",
   "name": "python",
   "nbconvert_exporter": "python",
   "pygments_lexer": "ipython3",
   "version": "3.9.7"
  }
 },
 "nbformat": 4,
 "nbformat_minor": 5
}
